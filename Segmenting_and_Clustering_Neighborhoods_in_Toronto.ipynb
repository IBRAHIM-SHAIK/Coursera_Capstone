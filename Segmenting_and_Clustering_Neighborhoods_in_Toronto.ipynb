{
  "nbformat": 4,
  "nbformat_minor": 0,
  "metadata": {
    "colab": {
      "name": "Segmenting and Clustering Neighborhoods in Toronto.ipynb",
      "version": "0.3.2",
      "provenance": []
    },
    "kernelspec": {
      "name": "python3",
      "display_name": "Python 3"
    }
  },
  "cells": [
    {
      "metadata": {
        "id": "tBgrksEOzpHJ",
        "colab_type": "text"
      },
      "cell_type": "markdown",
      "source": [
        "IMPORTING LIBRARIES"
      ]
    },
    {
      "metadata": {
        "id": "eqy76NGrz0zF",
        "colab_type": "code",
        "colab": {
          "base_uri": "https://localhost:8080/",
          "height": 238
        },
        "outputId": "5e876828-92cd-43eb-b7ef-7f62e18a1d53"
      },
      "cell_type": "code",
      "source": [
        "import pandas as pd\n",
        "import numpy as np\n",
        "import requests\n",
        "from bs4 import BeautifulSoup\n",
        "\n",
        "#mapping tools\n",
        "!pip install geopy \n",
        "from geopy.geocoders import Nominatim # convert an address into latitude and longitude values\n",
        "\n",
        "!pip install folium\n",
        "import folium # map rendering library\n",
        "\n",
        "def warn(*args, **kwargs):\n",
        "    pass\n",
        "import warnings\n",
        "warnings.warn = warn"
      ],
      "execution_count": 1,
      "outputs": [
        {
          "output_type": "stream",
          "text": [
            "Requirement already satisfied: geopy in /usr/local/lib/python3.6/dist-packages (1.17.0)\n",
            "Requirement already satisfied: geographiclib<2,>=1.49 in /usr/local/lib/python3.6/dist-packages (from geopy) (1.49)\n",
            "Requirement already satisfied: folium in /usr/local/lib/python3.6/dist-packages (0.8.3)\n",
            "Requirement already satisfied: numpy in /usr/local/lib/python3.6/dist-packages (from folium) (1.14.6)\n",
            "Requirement already satisfied: six in /usr/local/lib/python3.6/dist-packages (from folium) (1.11.0)\n",
            "Requirement already satisfied: jinja2 in /usr/local/lib/python3.6/dist-packages (from folium) (2.10)\n",
            "Requirement already satisfied: requests in /usr/local/lib/python3.6/dist-packages (from folium) (2.18.4)\n",
            "Requirement already satisfied: branca>=0.3.0 in /usr/local/lib/python3.6/dist-packages (from folium) (0.3.1)\n",
            "Requirement already satisfied: MarkupSafe>=0.23 in /usr/local/lib/python3.6/dist-packages (from jinja2->folium) (1.1.1)\n",
            "Requirement already satisfied: urllib3<1.23,>=1.21.1 in /usr/local/lib/python3.6/dist-packages (from requests->folium) (1.22)\n",
            "Requirement already satisfied: chardet<3.1.0,>=3.0.2 in /usr/local/lib/python3.6/dist-packages (from requests->folium) (3.0.4)\n",
            "Requirement already satisfied: idna<2.7,>=2.5 in /usr/local/lib/python3.6/dist-packages (from requests->folium) (2.6)\n",
            "Requirement already satisfied: certifi>=2017.4.17 in /usr/local/lib/python3.6/dist-packages (from requests->folium) (2019.3.9)\n"
          ],
          "name": "stdout"
        }
      ]
    },
    {
      "metadata": {
        "id": "Ut7TuPY-0fuu",
        "colab_type": "code",
        "colab": {
          "base_uri": "https://localhost:8080/",
          "height": 51
        },
        "outputId": "f24602d3-2204-4c43-d6fb-33acf0e955a2"
      },
      "cell_type": "code",
      "source": [
        "#install PyDrive to pull in csv data\n",
        "!pip install -U -q PyDrive\n",
        " \n",
        "from pydrive.auth import GoogleAuth\n",
        "from pydrive.drive import GoogleDrive\n",
        "from google.colab import auth\n",
        "from oauth2client.client import GoogleCredentials\n",
        "\n",
        "# 1. Authenticate and create the PyDrive client.\n",
        "auth.authenticate_user()\n",
        "gauth = GoogleAuth()\n",
        "gauth.credentials = GoogleCredentials.get_application_default()\n",
        "drive = GoogleDrive(gauth)"
      ],
      "execution_count": 2,
      "outputs": [
        {
          "output_type": "stream",
          "text": [
            "\u001b[?25l\r\u001b[K    1% |▎                               | 10kB 17.0MB/s eta 0:00:01\r\u001b[K    2% |▋                               | 20kB 1.8MB/s eta 0:00:01\r\u001b[K    3% |█                               | 30kB 2.6MB/s eta 0:00:01\r\u001b[K    4% |█▎                              | 40kB 1.7MB/s eta 0:00:01\r\u001b[K    5% |█▋                              | 51kB 2.1MB/s eta 0:00:01\r\u001b[K    6% |██                              | 61kB 2.5MB/s eta 0:00:01\r\u001b[K    7% |██▎                             | 71kB 2.9MB/s eta 0:00:01\r\u001b[K    8% |██▋                             | 81kB 3.3MB/s eta 0:00:01\r\u001b[K    9% |███                             | 92kB 3.6MB/s eta 0:00:01\r\u001b[K    10% |███▎                            | 102kB 2.8MB/s eta 0:00:01\r\u001b[K    11% |███▋                            | 112kB 2.8MB/s eta 0:00:01\r\u001b[K    12% |████                            | 122kB 4.0MB/s eta 0:00:01\r\u001b[K    13% |████▎                           | 133kB 4.0MB/s eta 0:00:01\r\u001b[K    14% |████▋                           | 143kB 7.4MB/s eta 0:00:01\r\u001b[K    15% |█████                           | 153kB 7.5MB/s eta 0:00:01\r\u001b[K    16% |█████▎                          | 163kB 7.5MB/s eta 0:00:01\r\u001b[K    17% |█████▋                          | 174kB 7.6MB/s eta 0:00:01\r\u001b[K    18% |██████                          | 184kB 7.6MB/s eta 0:00:01\r\u001b[K    19% |██████▎                         | 194kB 8.0MB/s eta 0:00:01\r\u001b[K    20% |██████▋                         | 204kB 37.3MB/s eta 0:00:01\r\u001b[K    21% |███████                         | 215kB 8.4MB/s eta 0:00:01\r\u001b[K    22% |███████▎                        | 225kB 8.3MB/s eta 0:00:01\r\u001b[K    23% |███████▋                        | 235kB 8.4MB/s eta 0:00:01\r\u001b[K    24% |████████                        | 245kB 8.5MB/s eta 0:00:01\r\u001b[K    25% |████████▎                       | 256kB 8.5MB/s eta 0:00:01\r\u001b[K    26% |████████▋                       | 266kB 8.3MB/s eta 0:00:01\r\u001b[K    27% |█████████                       | 276kB 8.3MB/s eta 0:00:01\r\u001b[K    29% |█████████▎                      | 286kB 8.3MB/s eta 0:00:01\r\u001b[K    30% |█████████▋                      | 296kB 8.3MB/s eta 0:00:01\r\u001b[K    31% |██████████                      | 307kB 8.6MB/s eta 0:00:01\r\u001b[K    32% |██████████▎                     | 317kB 46.7MB/s eta 0:00:01\r\u001b[K    33% |██████████▋                     | 327kB 49.8MB/s eta 0:00:01\r\u001b[K    34% |███████████                     | 337kB 54.7MB/s eta 0:00:01\r\u001b[K    35% |███████████▎                    | 348kB 48.9MB/s eta 0:00:01\r\u001b[K    36% |███████████▋                    | 358kB 48.8MB/s eta 0:00:01\r\u001b[K    37% |████████████                    | 368kB 59.1MB/s eta 0:00:01\r\u001b[K    38% |████████████▎                   | 378kB 59.6MB/s eta 0:00:01\r\u001b[K    39% |████████████▋                   | 389kB 61.0MB/s eta 0:00:01\r\u001b[K    40% |█████████████                   | 399kB 9.5MB/s eta 0:00:01\r\u001b[K    41% |█████████████▎                  | 409kB 9.3MB/s eta 0:00:01\r\u001b[K    42% |█████████████▋                  | 419kB 9.2MB/s eta 0:00:01\r\u001b[K    43% |██████████████                  | 430kB 9.2MB/s eta 0:00:01\r\u001b[K    44% |██████████████▎                 | 440kB 9.2MB/s eta 0:00:01\r\u001b[K    45% |██████████████▋                 | 450kB 9.2MB/s eta 0:00:01\r\u001b[K    46% |███████████████                 | 460kB 9.2MB/s eta 0:00:01\r\u001b[K    47% |███████████████▎                | 471kB 9.2MB/s eta 0:00:01\r\u001b[K    48% |███████████████▋                | 481kB 9.2MB/s eta 0:00:01\r\u001b[K    49% |████████████████                | 491kB 9.2MB/s eta 0:00:01\r\u001b[K    50% |████████████████▎               | 501kB 48.8MB/s eta 0:00:01\r\u001b[K    51% |████████████████▋               | 512kB 49.0MB/s eta 0:00:01\r\u001b[K    52% |█████████████████               | 522kB 50.0MB/s eta 0:00:01\r\u001b[K    53% |█████████████████▎              | 532kB 50.9MB/s eta 0:00:01\r\u001b[K    54% |█████████████████▋              | 542kB 51.2MB/s eta 0:00:01\r\u001b[K    55% |██████████████████              | 552kB 59.3MB/s eta 0:00:01\r\u001b[K    57% |██████████████████▎             | 563kB 61.5MB/s eta 0:00:01\r\u001b[K    58% |██████████████████▋             | 573kB 61.5MB/s eta 0:00:01\r\u001b[K    59% |███████████████████             | 583kB 59.7MB/s eta 0:00:01\r\u001b[K    60% |███████████████████▎            | 593kB 58.6MB/s eta 0:00:01\r\u001b[K    61% |███████████████████▋            | 604kB 57.7MB/s eta 0:00:01\r\u001b[K    62% |████████████████████            | 614kB 63.5MB/s eta 0:00:01\r\u001b[K    63% |████████████████████▎           | 624kB 62.9MB/s eta 0:00:01\r\u001b[K    64% |████████████████████▋           | 634kB 63.1MB/s eta 0:00:01\r\u001b[K    65% |█████████████████████           | 645kB 63.3MB/s eta 0:00:01\r\u001b[K    66% |█████████████████████▎          | 655kB 63.5MB/s eta 0:00:01\r\u001b[K    67% |█████████████████████▋          | 665kB 46.0MB/s eta 0:00:01\r\u001b[K    68% |██████████████████████          | 675kB 44.9MB/s eta 0:00:01\r\u001b[K    69% |██████████████████████▎         | 686kB 46.2MB/s eta 0:00:01\r\u001b[K    70% |██████████████████████▋         | 696kB 47.0MB/s eta 0:00:01\r\u001b[K    71% |███████████████████████         | 706kB 47.2MB/s eta 0:00:01\r\u001b[K    72% |███████████████████████▎        | 716kB 49.3MB/s eta 0:00:01\r\u001b[K    73% |███████████████████████▋        | 727kB 50.6MB/s eta 0:00:01\r\u001b[K    74% |████████████████████████        | 737kB 12.7MB/s eta 0:00:01\r\u001b[K    75% |████████████████████████▎       | 747kB 12.5MB/s eta 0:00:01\r\u001b[K    76% |████████████████████████▋       | 757kB 12.2MB/s eta 0:00:01\r\u001b[K    77% |████████████████████████▉       | 768kB 13.2MB/s eta 0:00:01\r\u001b[K    78% |█████████████████████████▏      | 778kB 13.2MB/s eta 0:00:01\r\u001b[K    79% |█████████████████████████▌      | 788kB 13.1MB/s eta 0:00:01\r\u001b[K    80% |█████████████████████████▉      | 798kB 13.0MB/s eta 0:00:01\r\u001b[K    81% |██████████████████████████▏     | 808kB 12.9MB/s eta 0:00:01\r\u001b[K    82% |██████████████████████████▌     | 819kB 12.8MB/s eta 0:00:01\r\u001b[K    83% |██████████████████████████▉     | 829kB 12.7MB/s eta 0:00:01\r\u001b[K    85% |███████████████████████████▏    | 839kB 49.9MB/s eta 0:00:01\r\u001b[K    86% |███████████████████████████▌    | 849kB 52.8MB/s eta 0:00:01\r\u001b[K    87% |███████████████████████████▉    | 860kB 47.4MB/s eta 0:00:01\r\u001b[K    88% |████████████████████████████▏   | 870kB 46.9MB/s eta 0:00:01\r\u001b[K    89% |████████████████████████████▌   | 880kB 47.2MB/s eta 0:00:01\r\u001b[K    90% |████████████████████████████▉   | 890kB 49.0MB/s eta 0:00:01\r\u001b[K    91% |█████████████████████████████▏  | 901kB 50.4MB/s eta 0:00:01\r\u001b[K    92% |█████████████████████████████▌  | 911kB 52.0MB/s eta 0:00:01\r\u001b[K    93% |█████████████████████████████▉  | 921kB 54.2MB/s eta 0:00:01\r\u001b[K    94% |██████████████████████████████▏ | 931kB 56.2MB/s eta 0:00:01\r\u001b[K    95% |██████████████████████████████▌ | 942kB 57.1MB/s eta 0:00:01\r\u001b[K    96% |██████████████████████████████▉ | 952kB 57.5MB/s eta 0:00:01\r\u001b[K    97% |███████████████████████████████▏| 962kB 76.4MB/s eta 0:00:01\r\u001b[K    98% |███████████████████████████████▌| 972kB 79.1MB/s eta 0:00:01\r\u001b[K    99% |███████████████████████████████▉| 983kB 79.8MB/s eta 0:00:01\r\u001b[K    100% |████████████████████████████████| 993kB 20.2MB/s \n",
            "\u001b[?25h  Building wheel for PyDrive (setup.py) ... \u001b[?25ldone\n",
            "\u001b[?25h"
          ],
          "name": "stdout"
        }
      ]
    },
    {
      "metadata": {
        "id": "iy-ExR1_1OA7",
        "colab_type": "code",
        "colab": {}
      },
      "cell_type": "code",
      "source": [
        "#https://drive.google.com/file/d/1kzhizbGuRObxHRhoYjCSDqMCaxwHEaEz/view?usp=sharing\n",
        "\n",
        "#download survey data from google drive\n",
        "downloaded1 = drive.CreateFile({'id': '1kzhizbGuRObxHRhoYjCSDqMCaxwHEaEz'})\n",
        "downloaded1.GetContentFile('Geospacial_Coordinates.csv')"
      ],
      "execution_count": 0,
      "outputs": []
    },
    {
      "metadata": {
        "id": "g6Dgds4q1cka",
        "colab_type": "code",
        "colab": {
          "base_uri": "https://localhost:8080/",
          "height": 34
        },
        "outputId": "fa82061a-8845-4f61-c6c8-13d1632d8f29"
      },
      "cell_type": "code",
      "source": [
        "# read csv file\n",
        "Geospacial_Coordinates = pd.read_csv('Geospacial_Coordinates.csv', sep = ',') \n",
        "# examine the shape of original input data\n",
        "print(Geospacial_Coordinates.shape)"
      ],
      "execution_count": 5,
      "outputs": [
        {
          "output_type": "stream",
          "text": [
            "(103, 3)\n"
          ],
          "name": "stdout"
        }
      ]
    },
    {
      "metadata": {
        "id": "4e27GVj71yGy",
        "colab_type": "text"
      },
      "cell_type": "markdown",
      "source": [
        "Create table - step 1 Use BeautifulSoup to scrape data from website:"
      ]
    },
    {
      "metadata": {
        "id": "XcjeZ9tD2AH-",
        "colab_type": "code",
        "colab": {}
      },
      "cell_type": "code",
      "source": [
        "#create an object with raw data from website\n",
        "website_url = requests.get(\"https://en.wikipedia.org/wiki/List_of_postal_codes_of_Canada:_M\").text"
      ],
      "execution_count": 0,
      "outputs": []
    },
    {
      "metadata": {
        "id": "ViRCHHNY2IaV",
        "colab_type": "code",
        "colab": {}
      },
      "cell_type": "code",
      "source": [
        "#create an object with the data from the website\n",
        "soup = BeautifulSoup(website_url)"
      ],
      "execution_count": 0,
      "outputs": []
    },
    {
      "metadata": {
        "id": "HB_rKe4N2eP6",
        "colab_type": "text"
      },
      "cell_type": "markdown",
      "source": [
        "Create table - step 2 Based on the table in the website (search for table > extract to dict & create pd DataFrame)"
      ]
    },
    {
      "metadata": {
        "id": "KlxRp51W2uY2",
        "colab_type": "code",
        "colab": {}
      },
      "cell_type": "code",
      "source": [
        "#search for table\n",
        "My_table = soup.find('table',{'class':'wikitable sortable'})\n",
        "My_table; #remove ';' to view output"
      ],
      "execution_count": 0,
      "outputs": []
    },
    {
      "metadata": {
        "id": "oExsgGFF3bN3",
        "colab_type": "text"
      },
      "cell_type": "markdown",
      "source": [
        "Create table - step 3 Extract table data and create pd DataFrame"
      ]
    },
    {
      "metadata": {
        "id": "HcN9blt13hWM",
        "colab_type": "code",
        "colab": {}
      },
      "cell_type": "code",
      "source": [
        "#extract row data to dict\n",
        "row_data = []\n",
        "for row in My_table.find_all(\"tr\"):\n",
        "    cols = row.find_all(\"td\")\n",
        "    cols = [ele.text.strip() for ele in cols]\n",
        "    row_data.append(cols)\n",
        "\n",
        "row_data; #remove ';' to view output"
      ],
      "execution_count": 0,
      "outputs": []
    },
    {
      "metadata": {
        "id": "fiX7rmNR3u5r",
        "colab_type": "text"
      },
      "cell_type": "markdown",
      "source": [
        "# ***Part 1*** - Create initial table with  Postcodes ('Postcode', 'Borough', 'Neighborhood')"
      ]
    },
    {
      "metadata": {
        "id": "34esOBiI376W",
        "colab_type": "code",
        "colab": {
          "base_uri": "https://localhost:8080/",
          "height": 204
        },
        "outputId": "8544fdf6-a6df-4db1-a8a4-bea14f489af2"
      },
      "cell_type": "code",
      "source": [
        "#create initial pd DataFrame\n",
        "df_table = pd.DataFrame(row_data)\n",
        "df_table = df_table.rename(columns={0:\"Postcode\",1:\"Borough\",2:\"Neighborhood\"})\n",
        "df_table.head()"
      ],
      "execution_count": 11,
      "outputs": [
        {
          "output_type": "execute_result",
          "data": {
            "text/html": [
              "<div>\n",
              "<style scoped>\n",
              "    .dataframe tbody tr th:only-of-type {\n",
              "        vertical-align: middle;\n",
              "    }\n",
              "\n",
              "    .dataframe tbody tr th {\n",
              "        vertical-align: top;\n",
              "    }\n",
              "\n",
              "    .dataframe thead th {\n",
              "        text-align: right;\n",
              "    }\n",
              "</style>\n",
              "<table border=\"1\" class=\"dataframe\">\n",
              "  <thead>\n",
              "    <tr style=\"text-align: right;\">\n",
              "      <th></th>\n",
              "      <th>Postcode</th>\n",
              "      <th>Borough</th>\n",
              "      <th>Neighborhood</th>\n",
              "    </tr>\n",
              "  </thead>\n",
              "  <tbody>\n",
              "    <tr>\n",
              "      <th>0</th>\n",
              "      <td>None</td>\n",
              "      <td>None</td>\n",
              "      <td>None</td>\n",
              "    </tr>\n",
              "    <tr>\n",
              "      <th>1</th>\n",
              "      <td>M1A</td>\n",
              "      <td>Not assigned</td>\n",
              "      <td>Not assigned</td>\n",
              "    </tr>\n",
              "    <tr>\n",
              "      <th>2</th>\n",
              "      <td>M2A</td>\n",
              "      <td>Not assigned</td>\n",
              "      <td>Not assigned</td>\n",
              "    </tr>\n",
              "    <tr>\n",
              "      <th>3</th>\n",
              "      <td>M3A</td>\n",
              "      <td>North York</td>\n",
              "      <td>Parkwoods</td>\n",
              "    </tr>\n",
              "    <tr>\n",
              "      <th>4</th>\n",
              "      <td>M4A</td>\n",
              "      <td>North York</td>\n",
              "      <td>Victoria Village</td>\n",
              "    </tr>\n",
              "  </tbody>\n",
              "</table>\n",
              "</div>"
            ],
            "text/plain": [
              "  Postcode       Borough      Neighborhood\n",
              "0     None          None              None\n",
              "1      M1A  Not assigned      Not assigned\n",
              "2      M2A  Not assigned      Not assigned\n",
              "3      M3A    North York         Parkwoods\n",
              "4      M4A    North York  Victoria Village"
            ]
          },
          "metadata": {
            "tags": []
          },
          "execution_count": 11
        }
      ]
    },
    {
      "metadata": {
        "id": "dQaUwVRr4PQY",
        "colab_type": "code",
        "colab": {
          "base_uri": "https://localhost:8080/",
          "height": 204
        },
        "outputId": "b325ebad-8a55-4061-8c05-d6b073329b6a"
      },
      "cell_type": "code",
      "source": [
        "#drop the first row (index = 0), and any row where 'Bourough' = 'Not assigned'\n",
        "df_table2 = df_table.copy()\n",
        "df_table2 = df_table.drop([0])\n",
        "df_table2 = df_table2.drop(df_table2[df_table2['Borough']=='Not assigned'].index)\n",
        "df_table2 = df_table2.reset_index(drop=True)\n",
        "df_table2.head()"
      ],
      "execution_count": 12,
      "outputs": [
        {
          "output_type": "execute_result",
          "data": {
            "text/html": [
              "<div>\n",
              "<style scoped>\n",
              "    .dataframe tbody tr th:only-of-type {\n",
              "        vertical-align: middle;\n",
              "    }\n",
              "\n",
              "    .dataframe tbody tr th {\n",
              "        vertical-align: top;\n",
              "    }\n",
              "\n",
              "    .dataframe thead th {\n",
              "        text-align: right;\n",
              "    }\n",
              "</style>\n",
              "<table border=\"1\" class=\"dataframe\">\n",
              "  <thead>\n",
              "    <tr style=\"text-align: right;\">\n",
              "      <th></th>\n",
              "      <th>Postcode</th>\n",
              "      <th>Borough</th>\n",
              "      <th>Neighborhood</th>\n",
              "    </tr>\n",
              "  </thead>\n",
              "  <tbody>\n",
              "    <tr>\n",
              "      <th>0</th>\n",
              "      <td>M3A</td>\n",
              "      <td>North York</td>\n",
              "      <td>Parkwoods</td>\n",
              "    </tr>\n",
              "    <tr>\n",
              "      <th>1</th>\n",
              "      <td>M4A</td>\n",
              "      <td>North York</td>\n",
              "      <td>Victoria Village</td>\n",
              "    </tr>\n",
              "    <tr>\n",
              "      <th>2</th>\n",
              "      <td>M5A</td>\n",
              "      <td>Downtown Toronto</td>\n",
              "      <td>Harbourfront</td>\n",
              "    </tr>\n",
              "    <tr>\n",
              "      <th>3</th>\n",
              "      <td>M5A</td>\n",
              "      <td>Downtown Toronto</td>\n",
              "      <td>Regent Park</td>\n",
              "    </tr>\n",
              "    <tr>\n",
              "      <th>4</th>\n",
              "      <td>M6A</td>\n",
              "      <td>North York</td>\n",
              "      <td>Lawrence Heights</td>\n",
              "    </tr>\n",
              "  </tbody>\n",
              "</table>\n",
              "</div>"
            ],
            "text/plain": [
              "  Postcode           Borough      Neighborhood\n",
              "0      M3A        North York         Parkwoods\n",
              "1      M4A        North York  Victoria Village\n",
              "2      M5A  Downtown Toronto      Harbourfront\n",
              "3      M5A  Downtown Toronto       Regent Park\n",
              "4      M6A        North York  Lawrence Heights"
            ]
          },
          "metadata": {
            "tags": []
          },
          "execution_count": 12
        }
      ]
    },
    {
      "metadata": {
        "id": "Q0Bmojir4imW",
        "colab_type": "text"
      },
      "cell_type": "markdown",
      "source": [
        "Create table - step 4 - data transform - if 'Neighborhood' = 'Not Assigned', then use 'Borough'"
      ]
    },
    {
      "metadata": {
        "id": "a_RFIhCQ4ovA",
        "colab_type": "code",
        "colab": {
          "base_uri": "https://localhost:8080/",
          "height": 85
        },
        "outputId": "c4a1db59-f1ad-42c2-b7a9-d78f1572697e"
      },
      "cell_type": "code",
      "source": [
        "#check a row where 'Neighborhood' = 'Not assigned'\n",
        "df_table2.loc[6]"
      ],
      "execution_count": 13,
      "outputs": [
        {
          "output_type": "execute_result",
          "data": {
            "text/plain": [
              "Postcode                 M7A\n",
              "Borough         Queen's Park\n",
              "Neighborhood    Not assigned\n",
              "Name: 6, dtype: object"
            ]
          },
          "metadata": {
            "tags": []
          },
          "execution_count": 13
        }
      ]
    },
    {
      "metadata": {
        "id": "_l7OAC7b4x_j",
        "colab_type": "code",
        "colab": {
          "base_uri": "https://localhost:8080/",
          "height": 85
        },
        "outputId": "fab1df07-fd40-4746-efee-d0b656fbd40e"
      },
      "cell_type": "code",
      "source": [
        "#create a new table and replace values if 'Neighborhood' = 'Not assigned' with 'Bourough'\n",
        "df_table3 = df_table2.copy()\n",
        "\n",
        "df_table3['Neighborhood'] = df_table3.apply(\n",
        "    lambda row: row['Borough'] if row['Neighborhood'] == 'Not assigned' else row['Neighborhood'],\n",
        "    axis=1\n",
        ")\n",
        "\n",
        "#have a look at the transformed data\n",
        "df_table3.loc[6]"
      ],
      "execution_count": 14,
      "outputs": [
        {
          "output_type": "execute_result",
          "data": {
            "text/plain": [
              "Postcode                 M7A\n",
              "Borough         Queen's Park\n",
              "Neighborhood    Queen's Park\n",
              "Name: 6, dtype: object"
            ]
          },
          "metadata": {
            "tags": []
          },
          "execution_count": 14
        }
      ]
    },
    {
      "metadata": {
        "id": "pjDzXtiY5ABL",
        "colab_type": "text"
      },
      "cell_type": "markdown",
      "source": [
        "Create table - step 5 group the dataframe by Postcode & Borough and 'Join' values in 'Neighborhood'"
      ]
    },
    {
      "metadata": {
        "id": "n4o7nknx5Ez6",
        "colab_type": "code",
        "colab": {
          "base_uri": "https://localhost:8080/",
          "height": 204
        },
        "outputId": "b7d346f7-5e4a-45af-8e48-c21be9534e46"
      },
      "cell_type": "code",
      "source": [
        "df_table4 = df_table3.copy()\n",
        "\n",
        "df_table4 = (df_table4.groupby(['Postcode','Borough'])['Neighborhood']\n",
        "       .apply(lambda x: ','.join(set(x.dropna())))\n",
        "       .reset_index())\n",
        "\n",
        "df_table4 = pd.DataFrame(df_table4)\n",
        "df_table4.head()"
      ],
      "execution_count": 15,
      "outputs": [
        {
          "output_type": "execute_result",
          "data": {
            "text/html": [
              "<div>\n",
              "<style scoped>\n",
              "    .dataframe tbody tr th:only-of-type {\n",
              "        vertical-align: middle;\n",
              "    }\n",
              "\n",
              "    .dataframe tbody tr th {\n",
              "        vertical-align: top;\n",
              "    }\n",
              "\n",
              "    .dataframe thead th {\n",
              "        text-align: right;\n",
              "    }\n",
              "</style>\n",
              "<table border=\"1\" class=\"dataframe\">\n",
              "  <thead>\n",
              "    <tr style=\"text-align: right;\">\n",
              "      <th></th>\n",
              "      <th>Postcode</th>\n",
              "      <th>Borough</th>\n",
              "      <th>Neighborhood</th>\n",
              "    </tr>\n",
              "  </thead>\n",
              "  <tbody>\n",
              "    <tr>\n",
              "      <th>0</th>\n",
              "      <td>M1B</td>\n",
              "      <td>Scarborough</td>\n",
              "      <td>Malvern,Rouge</td>\n",
              "    </tr>\n",
              "    <tr>\n",
              "      <th>1</th>\n",
              "      <td>M1C</td>\n",
              "      <td>Scarborough</td>\n",
              "      <td>Highland Creek,Rouge Hill,Port Union</td>\n",
              "    </tr>\n",
              "    <tr>\n",
              "      <th>2</th>\n",
              "      <td>M1E</td>\n",
              "      <td>Scarborough</td>\n",
              "      <td>Guildwood,West Hill,Morningside</td>\n",
              "    </tr>\n",
              "    <tr>\n",
              "      <th>3</th>\n",
              "      <td>M1G</td>\n",
              "      <td>Scarborough</td>\n",
              "      <td>Woburn</td>\n",
              "    </tr>\n",
              "    <tr>\n",
              "      <th>4</th>\n",
              "      <td>M1H</td>\n",
              "      <td>Scarborough</td>\n",
              "      <td>Cedarbrae</td>\n",
              "    </tr>\n",
              "  </tbody>\n",
              "</table>\n",
              "</div>"
            ],
            "text/plain": [
              "  Postcode      Borough                          Neighborhood\n",
              "0      M1B  Scarborough                         Malvern,Rouge\n",
              "1      M1C  Scarborough  Highland Creek,Rouge Hill,Port Union\n",
              "2      M1E  Scarborough       Guildwood,West Hill,Morningside\n",
              "3      M1G  Scarborough                                Woburn\n",
              "4      M1H  Scarborough                             Cedarbrae"
            ]
          },
          "metadata": {
            "tags": []
          },
          "execution_count": 15
        }
      ]
    },
    {
      "metadata": {
        "id": "TF-7e6P05T4s",
        "colab_type": "code",
        "colab": {
          "base_uri": "https://localhost:8080/",
          "height": 34
        },
        "outputId": "1e27f5b9-25da-4b62-af80-dd72d6ed41a6"
      },
      "cell_type": "code",
      "source": [
        "df_table4.shape"
      ],
      "execution_count": 16,
      "outputs": [
        {
          "output_type": "execute_result",
          "data": {
            "text/plain": [
              "(103, 3)"
            ]
          },
          "metadata": {
            "tags": []
          },
          "execution_count": 16
        }
      ]
    }
  ]
}